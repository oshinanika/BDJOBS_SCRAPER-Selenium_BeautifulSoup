{
  "nbformat": 4,
  "nbformat_minor": 0,
  "metadata": {
    "colab": {
      "name": "Simple NLP App-She Thinks Code.ipynb",
      "provenance": [],
      "include_colab_link": true
    },
    "kernelspec": {
      "name": "python3",
      "display_name": "Python 3"
    }
  },
  "cells": [
    {
      "cell_type": "markdown",
      "metadata": {
        "id": "view-in-github",
        "colab_type": "text"
      },
      "source": [
        "<a href=\"https://colab.research.google.com/github/oshinanika/BDJOBS_SCRAPER-Selenium_BeautifulSoup/blob/master/Simple_NLP_App_She_Thinks_Code.ipynb\" target=\"_parent\"><img src=\"https://colab.research.google.com/assets/colab-badge.svg\" alt=\"Open In Colab\"/></a>"
      ]
    },
    {
      "cell_type": "markdown",
      "metadata": {
        "id": "8HYywymfwIX-",
        "colab_type": "text"
      },
      "source": [
        "### Install Spacy, Streamlit & Pyngrok"
      ]
    },
    {
      "cell_type": "code",
      "metadata": {
        "id": "ZQXHyM8jEsST",
        "colab_type": "code",
        "colab": {}
      },
      "source": [
        "!pip install spacy"
      ],
      "execution_count": null,
      "outputs": []
    },
    {
      "cell_type": "code",
      "metadata": {
        "id": "5agYNCN1FCbK",
        "colab_type": "code",
        "colab": {}
      },
      "source": [
        "!pip install spacy-streamlit"
      ],
      "execution_count": null,
      "outputs": []
    },
    {
      "cell_type": "code",
      "metadata": {
        "id": "LImnZcnZYYz1",
        "colab_type": "code",
        "colab": {}
      },
      "source": [
        "!python3 -m spacy download en"
      ],
      "execution_count": null,
      "outputs": []
    },
    {
      "cell_type": "code",
      "metadata": {
        "id": "XlMrD5XjY3qo",
        "colab_type": "code",
        "colab": {}
      },
      "source": [
        "!pip install pyngrok"
      ],
      "execution_count": null,
      "outputs": []
    },
    {
      "cell_type": "markdown",
      "metadata": {
        "id": "klvQRxdMwV8s",
        "colab_type": "text"
      },
      "source": [
        "###Save your file from PC to this colab"
      ]
    },
    {
      "cell_type": "code",
      "metadata": {
        "id": "wMNVY_p8whEB",
        "colab_type": "code",
        "colab": {
          "base_uri": "https://localhost:8080/",
          "height": 34
        },
        "outputId": "33cd15a4-af25-4120-f1c9-f5f3f7f8b01a"
      },
      "source": [
        "%%writefile app.py\n",
        "#Core packages\n",
        "import streamlit as st\n",
        "\n",
        "#NLP packages\n",
        "import spacy \n",
        "import spacy_streamlit as ss \n",
        "from spacy import displacy\n",
        "nlp = spacy.load('en')\n",
        "\n",
        "\n",
        "def main():\n",
        "  \"NLP app with Streamlit\"\n",
        "  st.title(\"NLP APP\")\n",
        "  menu = [\"Home\", \"Tokens\", \"NER\", \"Query\"]\n",
        "  choice = st.sidebar.selectbox(\"Menu\", menu)\n",
        "\n",
        "  if choice == \"Home\":\n",
        "    st.subheader(\"Visualizer\")\n",
        "    raw_text = st.text_area(\"Enter text here\")\n",
        "    docx = nlp(raw_text)\n",
        "    if st.button(\"Visualize\"):\n",
        "      ss.visualize_parser(docx)\n",
        "  \n",
        "\n",
        "  elif choice == \"Tokens\":\n",
        "    st.subheader(\"Tokenizer\")\n",
        "    raw_text = st.text_area(\"Enter text here\",\" \")\n",
        "    docx = nlp(raw_text)\n",
        "    if st.button(\"Tokenize\"):\n",
        "      ss.visualize_tokens(docx, attrs=['idx', 'text', 'pos_', 'lemma_', 'like_num'])\n",
        "\n",
        "  elif choice == \"NER\":\n",
        "    st.subheader(\"Named Entity Recognizer\")\n",
        "    raw_text = st.text_area(\"Enter text here\",\" \")\n",
        "    docx = nlp(raw_text)\n",
        "    if st.button(\"NER\"):\n",
        "      ss.visualize_ner(docx, labels=nlp.get_pipe('ner').labels)\n",
        "\n",
        "  elif choice == \"Query\":\n",
        "    st.subheader(\"Query on Spacy\")\n",
        "    raw_text = st.text_area(\"Enter text here\",\" \")\n",
        "    docx = nlp(raw_text)\n",
        "    answer = spacy.explain(raw_text)\n",
        "    if st.button(\"Explain\"):\n",
        "      st.write(answer)\n",
        "\n",
        "\n",
        "if __name__ == '__main__':\n",
        "  main()"
      ],
      "execution_count": null,
      "outputs": [
        {
          "output_type": "stream",
          "text": [
            "Overwriting app.py\n"
          ],
          "name": "stdout"
        }
      ]
    },
    {
      "cell_type": "code",
      "metadata": {
        "id": "nc8zGEisw7id",
        "colab_type": "code",
        "colab": {
          "base_uri": "https://localhost:8080/",
          "height": 34
        },
        "outputId": "98e1ec04-fd1f-41d4-e308-234f91a6ae50"
      },
      "source": [
        "#check if file is saved\n",
        "!ls"
      ],
      "execution_count": null,
      "outputs": [
        {
          "output_type": "stream",
          "text": [
            "app.py\tsample_data\n"
          ],
          "name": "stdout"
        }
      ]
    },
    {
      "cell_type": "markdown",
      "metadata": {
        "id": "PYp5ycPR8qFn",
        "colab_type": "text"
      },
      "source": [
        "##Spacy Doc\n",
        "https://spacy.io/usage/spacy-101\n"
      ]
    },
    {
      "cell_type": "markdown",
      "metadata": {
        "id": "AVRNuOs2jsSi",
        "colab_type": "text"
      },
      "source": [
        "Streamlit DOC\n",
        "https://docs.streamlit.io/en/stable/api.html"
      ]
    },
    {
      "cell_type": "markdown",
      "metadata": {
        "id": "vam3SbvWKtob",
        "colab_type": "text"
      },
      "source": [
        "### Spacy-Streamlit\n",
        "https://github.com/explosion/spacy-streamlit\n"
      ]
    },
    {
      "cell_type": "markdown",
      "metadata": {
        "id": "0ahprf8IjdE4",
        "colab_type": "text"
      },
      "source": [
        "### Viualize_tokens \n",
        "https://spacy.io/api/token#attributes\n",
        "  + idx = The character offset of the token within the parent document.(index of the start character of the word)\n",
        "  + text = Verbatim text content.\n",
        "  + lemma_ = Base form of the token, with no inflectional suffixes.\n",
        "  + pos_ = Coarse-grained part-of-speech from the Universal POS tag set.(https://universaldependencies.org/docs/u/pos/) ->Noun, verb, adjective, ...\n",
        "  + tag_ = Fine-grained part-of-speech(https://github.com/explosion/spaCy/blob/master/spacy/lang/en/tag_map.py).->verb-past, verb-present-3rd, verb-base, ... etc.\n",
        "  + dep_ = Syntactic dependency relation.\n",
        "  + head = The syntactic parent, or “governor”, of this token.\n",
        "  + ent_type_ = Named entity type.\n",
        "  + ent_iob_ = IOB code of named entity tag. “B” means the token begins an entity, “I” means it is inside an entity, “O” means it is outside an entity, and \"\" means no entity tag is set.\n",
        "  + shape_ = Transform of the tokens’s string, to show orthographic features. Alphabetic characters are replaced by x or X, and numeric characters are replaced by d, and sequences of the same character are truncated after length 4. For example,\"Xxxx\"or\"dd\".\n",
        "  + is_alpha, is_digit, is_ascii, is_punct, \n",
        "  + like_num  = Does the token represent a number? e.g. “10.9”, “10”, “ten”, etc."
      ]
    },
    {
      "cell_type": "markdown",
      "metadata": {
        "id": "sJy84QvoGHlh",
        "colab_type": "text"
      },
      "source": [
        "### Visualize_ner\n",
        "https://spacy.io/usage/processing-pipelines\n",
        "\n",
        "* geo = Geographical Entity\n",
        "* gpe = Geopolitical Entity\n",
        "* tim = Time indicator\n",
        "* eve = Event\n",
        "* nat = Natural Phenomenon\n",
        "\n",
        "\n",
        "\n",
        "\n",
        "### Dependency Parsing & POS tags\n",
        "https://spacy.io/api/annotation"
      ]
    },
    {
      "cell_type": "code",
      "metadata": {
        "id": "GaC1bvH2THX9",
        "colab_type": "code",
        "colab": {}
      },
      "source": [
        ""
      ],
      "execution_count": null,
      "outputs": []
    },
    {
      "cell_type": "markdown",
      "metadata": {
        "id": "Ryu_lEdExJUN",
        "colab_type": "text"
      },
      "source": [
        "### Authenticate ngrok from your profile dashboard on their website"
      ]
    },
    {
      "cell_type": "code",
      "metadata": {
        "id": "vlL43NN2ZxuP",
        "colab_type": "code",
        "colab": {
          "base_uri": "https://localhost:8080/",
          "height": 34
        },
        "outputId": "902cce35-8e88-4e6e-cec9-8ecba824ce6e"
      },
      "source": [
        "!ngrok authtoken XXXXXXXXX"
      ],
      "execution_count": null,
      "outputs": [
        {
          "output_type": "stream",
          "text": [
            "Authtoken saved to configuration file: /root/.ngrok2/ngrok.yml\n"
          ],
          "name": "stdout"
        }
      ]
    },
    {
      "cell_type": "code",
      "metadata": {
        "id": "_HNqdzZCtmc2",
        "colab_type": "code",
        "colab": {}
      },
      "source": [
        "!ngrok"
      ],
      "execution_count": null,
      "outputs": []
    },
    {
      "cell_type": "markdown",
      "metadata": {
        "id": "t4u15uoQum_M",
        "colab_type": "text"
      },
      "source": [
        "### Run Streamlit by any one method from below"
      ]
    },
    {
      "cell_type": "code",
      "metadata": {
        "id": "1D99gdu1t9_F",
        "colab_type": "code",
        "colab": {}
      },
      "source": [
        "#This will make the app run in background while you update\n",
        "\n",
        "#!nohup streamlit run app.py\n",
        "\n",
        "!streamlit run app.py&>/dev/null&"
      ],
      "execution_count": null,
      "outputs": []
    },
    {
      "cell_type": "markdown",
      "metadata": {
        "id": "QyNLn_Vbu2O9",
        "colab_type": "text"
      },
      "source": [
        "### Check if Streamlit is running\n",
        "pgrep looks through the currently running processes and lists the process IDs"
      ]
    },
    {
      "cell_type": "code",
      "metadata": {
        "id": "a2_aZ9Ntu112",
        "colab_type": "code",
        "colab": {
          "base_uri": "https://localhost:8080/",
          "height": 51
        },
        "outputId": "4db78286-ecda-4211-f6a4-269242a6be0c"
      },
      "source": [
        "!pgrep streamlit"
      ],
      "execution_count": null,
      "outputs": [
        {
          "output_type": "stream",
          "text": [
            "544\n",
            "558\n"
          ],
          "name": "stdout"
        }
      ]
    },
    {
      "cell_type": "markdown",
      "metadata": {
        "id": "QyAY5GLJX_yX",
        "colab_type": "text"
      },
      "source": [
        "### Public URL for our App"
      ]
    },
    {
      "cell_type": "code",
      "metadata": {
        "id": "ll1rYCTfx7RV",
        "colab_type": "code",
        "colab": {}
      },
      "source": [
        "from pyngrok import ngrok"
      ],
      "execution_count": null,
      "outputs": []
    },
    {
      "cell_type": "code",
      "metadata": {
        "id": "dv7FzAZevVPU",
        "colab_type": "code",
        "colab": {}
      },
      "source": [
        "publ_url = ngrok.connect(port='8501')"
      ],
      "execution_count": null,
      "outputs": []
    },
    {
      "cell_type": "code",
      "metadata": {
        "id": "fSoyMTBBvrtN",
        "colab_type": "code",
        "colab": {
          "base_uri": "https://localhost:8080/",
          "height": 35
        },
        "outputId": "6b1e870b-8733-4ac1-f16c-1c35e5477b82"
      },
      "source": [
        "publ_url"
      ],
      "execution_count": null,
      "outputs": [
        {
          "output_type": "execute_result",
          "data": {
            "application/vnd.google.colaboratory.intrinsic+json": {
              "type": "string"
            },
            "text/plain": [
              "'http://d56d921885c1.ngrok.io'"
            ]
          },
          "metadata": {
            "tags": []
          },
          "execution_count": 14
        }
      ]
    },
    {
      "cell_type": "markdown",
      "metadata": {
        "id": "O2k9Vd-Qvzi4",
        "colab_type": "text"
      },
      "source": [
        "### Kill this tunnel\n",
        "(must be killed in this same colab notebook)"
      ]
    },
    {
      "cell_type": "code",
      "metadata": {
        "id": "ckdKtRjtv3yg",
        "colab_type": "code",
        "colab": {}
      },
      "source": [
        "ngrok.kill()"
      ],
      "execution_count": null,
      "outputs": []
    }
  ]
}